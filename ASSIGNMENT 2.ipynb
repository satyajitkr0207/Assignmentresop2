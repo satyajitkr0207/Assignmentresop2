{
 "cells": [
  {
   "cell_type": "code",
   "execution_count": 8,
   "metadata": {},
   "outputs": [
    {
     "name": "stdout",
     "output_type": "stream",
     "text": [
      "45\n"
     ]
    }
   ],
   "source": [
    "# task 1 question no.1.1\n",
    "\n",
    "\n",
    "def myreduce(summation,l):\n",
    "    result=l[0]\n",
    "    for i in l[1:]:\n",
    "        result=summation(result,i)\n",
    "    print(result)\n",
    "def summation (a,b):\n",
    "    return a+b\n",
    "myreduce(summation ,[1,2,3,4,5,6,7,8,9])\n"
   ]
  },
  {
   "cell_type": "code",
   "execution_count": null,
   "metadata": {},
   "outputs": [],
   "source": []
  },
  {
   "cell_type": "code",
   "execution_count": 32,
   "metadata": {},
   "outputs": [
    {
     "name": "stdout",
     "output_type": "stream",
     "text": [
      "[5, 7, 9]\n"
     ]
    }
   ],
   "source": [
    "# Task 1 Question no.1.2\n",
    "def myfilter(function,l):\n",
    "    m=[]\n",
    "    for i in l:\n",
    "        if function(i):\n",
    "            m.append(i)\n",
    "    print(m)   \n",
    "def function(x):\n",
    "    if x%2!=0:\n",
    "        return True\n",
    "myfilter(function ,[4,5,6,7,8,8,9,10])    "
   ]
  },
  {
   "cell_type": "code",
   "execution_count": 1,
   "metadata": {},
   "outputs": [
    {
     "data": {
      "text/plain": [
       "['A', 'C', 'A', 'D', 'G', 'I', 'L', 'D']"
      ]
     },
     "execution_count": 1,
     "metadata": {},
     "output_type": "execute_result"
    }
   ],
   "source": [
    "# task 1 Question No.2\n",
    "\n",
    "[i for i in \"ACADGILD\" if i.isalpha() ]\n"
   ]
  },
  {
   "cell_type": "code",
   "execution_count": 13,
   "metadata": {},
   "outputs": [
    {
     "name": "stdout",
     "output_type": "stream",
     "text": [
      "['x', 'xx', 'xxx', 'xxxx', 'y', 'yy', 'yyy', 'yyyy', 'z', 'zz', 'zzz', 'zzzz']\n"
     ]
    }
   ],
   "source": [
    "first_list=[i*j for i in ( 'x','y','z' ) for j in range(1,5) ]\n",
    "print(first_list)"
   ]
  },
  {
   "cell_type": "code",
   "execution_count": 2,
   "metadata": {},
   "outputs": [
    {
     "name": "stdout",
     "output_type": "stream",
     "text": [
      "[['x', 'y', 'z', 'xx', 'yy', 'zz', 'xxx', 'yyy', 'zzz', 'xxxx', 'yyyy', 'zzzz']]\n"
     ]
    }
   ],
   "source": [
    "first_list=[i*j for i in ( 'x','y','z' ) for j in range(1,2) ]\n",
    "second_list=[i*j for i in ( 'x','y','z' ) for j in range(2,3)]\n",
    "third_list=[i*j for i in ( 'x','y','z' ) for j in range(3,4)]\n",
    "fourth_list=[i*j for i in ( 'x','y','z' ) for j in range(4,5)]\n",
    "fifth_list=[first_list+second_list+third_list+fourth_list]\n",
    "print(fifth_list)"
   ]
  },
  {
   "cell_type": "code",
   "execution_count": 5,
   "metadata": {},
   "outputs": [
    {
     "name": "stdout",
     "output_type": "stream",
     "text": [
      "[(1, 1), (1, 2), (1, 3), (2, 1), (2, 2), (2, 3), (3, 1), (3, 2), (3, 3)]\n"
     ]
    }
   ],
   "source": [
    "s=[(a,b) for a in range(1,4) for b in range(1,4)]\n",
    "print(s)"
   ]
  },
  {
   "cell_type": "code",
   "execution_count": 6,
   "metadata": {},
   "outputs": [
    {
     "name": "stdout",
     "output_type": "stream",
     "text": [
      "[[[2], [3], [4], [3], [4], [5], [4], [5], [6]]]\n"
     ]
    }
   ],
   "source": [
    "s=[[i] for i in range(2,5)]\n",
    "r=[[j]for j in range(3,6)]\n",
    "t=[[k] for k in range(4,7)]\n",
    "p=[s+r+t]\n",
    "print(p)"
   ]
  },
  {
   "cell_type": "code",
   "execution_count": 17,
   "metadata": {},
   "outputs": [
    {
     "name": "stdout",
     "output_type": "stream",
     "text": [
      "[[2, 3, 4, 5], [3, 4, 5, 6], [4, 5, 6, 7], [5, 6, 7, 8]]\n"
     ]
    }
   ],
   "source": [
    "s=[i for i in range(2,6)]\n",
    "r=[j for j in range(3,7)]\n",
    "t=[k for k in range(4,8)]\n",
    "q=[l for l in range(5,9)]\n",
    "p=[s]+[r]+[t]+[q]\n",
    "print(p)"
   ]
  },
  {
   "cell_type": "code",
   "execution_count": null,
   "metadata": {},
   "outputs": [],
   "source": []
  },
  {
   "cell_type": "code",
   "execution_count": null,
   "metadata": {},
   "outputs": [],
   "source": [
    "# Task1 Question no.3\n"
   ]
  },
  {
   "cell_type": "code",
   "execution_count": 24,
   "metadata": {},
   "outputs": [
    {
     "data": {
      "text/plain": [
       "'satyajit'"
      ]
     },
     "execution_count": 24,
     "metadata": {},
     "output_type": "execute_result"
    }
   ],
   "source": [
    " def longestword(function,list):\n",
    "        m=[]\n",
    "        for i in list:\n",
    "            l=function(i)\n",
    "            m.append(l)\n",
    "        m.sort()\n",
    "        return m[-1][1]\n",
    "def function(x):\n",
    "    return (len(x),x)\n",
    "longestword(function,[\"sattu\",\"satyajit\",\"ram\",\"mohana\"])"
   ]
  },
  {
   "cell_type": "code",
   "execution_count": null,
   "metadata": {},
   "outputs": [],
   "source": [
    "# Task 2 Question No.1.1"
   ]
  },
  {
   "cell_type": "code",
   "execution_count": 9,
   "metadata": {},
   "outputs": [
    {
     "name": "stdout",
     "output_type": "stream",
     "text": [
      " enter length of side a  5\n",
      " enter length of side b  6\n",
      " enter length of side c  7\n",
      "area of triangle is 14.696938456699069\n"
     ]
    }
   ],
   "source": [
    "class person:\n",
    "    a=float(input(\" enter length of side a  \" ))\n",
    "    b=float(input(\" enter length of side b  \" ))\n",
    "    c=float(input(\" enter length of side c  \" ))\n",
    "    s= (a+b+c)/2\n",
    "    \n",
    "class student(person):\n",
    "    p1=person.s-person.a\n",
    "    p2=person.s-person.b\n",
    "    p3=person.s-person.c\n",
    "    area=(person.s*p1*p2*p3)**0.5\n",
    "    \n",
    "x=student()   \n",
    "print(\"area of triangle is\",x.area)"
   ]
  },
  {
   "cell_type": "code",
   "execution_count": 5,
   "metadata": {},
   "outputs": [],
   "source": []
  },
  {
   "cell_type": "code",
   "execution_count": null,
   "metadata": {},
   "outputs": [],
   "source": [
    "# Task 2 Question No.1.2"
   ]
  },
  {
   "cell_type": "code",
   "execution_count": 83,
   "metadata": {},
   "outputs": [
    {
     "name": "stdout",
     "output_type": "stream",
     "text": [
      "['sattu', 'mohan', 'satyajit', 'harsh']\n"
     ]
    }
   ],
   "source": [
    "def filter_long_words(n,list):\n",
    "    m=[]\n",
    "    for i in list:\n",
    "        if len(i)>n:\n",
    "            m.append(i)\n",
    "    print(m)    \n",
    "filter_long_words(4,[\"sattu\",\"mohan\",\"ram\",\"satyajit\",\"harsh\" ,\"av\",\"a\"])"
   ]
  },
  {
   "cell_type": "markdown",
   "metadata": {},
   "source": []
  },
  {
   "cell_type": "code",
   "execution_count": null,
   "metadata": {},
   "outputs": [],
   "source": [
    "# Task 2 Question no. 2.1"
   ]
  },
  {
   "cell_type": "code",
   "execution_count": 1,
   "metadata": {},
   "outputs": [
    {
     "data": {
      "text/plain": [
       "[3, 5, 6, 5]"
      ]
     },
     "execution_count": 1,
     "metadata": {},
     "output_type": "execute_result"
    }
   ],
   "source": [
    "def map_list(word_list):\n",
    "    m=[]\n",
    "    for i in word_list:\n",
    "        m.append(len(i))\n",
    "    return m   \n",
    "map_list([\"acd\",\"asedf\",\"jefogi\",\"sattu\"])"
   ]
  },
  {
   "cell_type": "code",
   "execution_count": null,
   "metadata": {},
   "outputs": [],
   "source": [
    "\n"
   ]
  },
  {
   "cell_type": "code",
   "execution_count": null,
   "metadata": {},
   "outputs": [],
   "source": [
    "# Task 2 Question No.2.2"
   ]
  },
  {
   "cell_type": "code",
   "execution_count": 45,
   "metadata": {},
   "outputs": [
    {
     "data": {
      "text/plain": [
       "True"
      ]
     },
     "execution_count": 45,
     "metadata": {},
     "output_type": "execute_result"
    }
   ],
   "source": [
    "def is_vowel(char):\n",
    "    \n",
    "    if char== \"a\" or char== \"e\" or char==\"i\" or char==\"o\" or char==\"u\":\n",
    "        return True\n",
    "    else:\n",
    "        return False\n",
    "\n",
    "is_vowel('o')"
   ]
  },
  {
   "cell_type": "code",
   "execution_count": 46,
   "metadata": {},
   "outputs": [
    {
     "data": {
      "text/plain": [
       "False"
      ]
     },
     "execution_count": 46,
     "metadata": {},
     "output_type": "execute_result"
    }
   ],
   "source": [
    "is_vowel('r')"
   ]
  },
  {
   "cell_type": "code",
   "execution_count": null,
   "metadata": {},
   "outputs": [],
   "source": []
  },
  {
   "cell_type": "code",
   "execution_count": null,
   "metadata": {},
   "outputs": [],
   "source": []
  }
 ],
 "metadata": {
  "kernelspec": {
   "display_name": "Python 3",
   "language": "python",
   "name": "python3"
  },
  "language_info": {
   "codemirror_mode": {
    "name": "ipython",
    "version": 3
   },
   "file_extension": ".py",
   "mimetype": "text/x-python",
   "name": "python",
   "nbconvert_exporter": "python",
   "pygments_lexer": "ipython3",
   "version": "3.7.4"
  }
 },
 "nbformat": 4,
 "nbformat_minor": 2
}
